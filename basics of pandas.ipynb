{
 "cells": [
  {
   "cell_type": "code",
   "execution_count": 1,
   "metadata": {},
   "outputs": [],
   "source": [
    "import pandas as pd"
   ]
  },
  {
   "cell_type": "code",
   "execution_count": 5,
   "metadata": {},
   "outputs": [],
   "source": [
    "xyz_web={'day':[1,2,3,4,5,6,7],'visitors':[100,200,300,400,500,600,700],'bunce_rate':[10,20,30,40,50,60,70]}"
   ]
  },
  {
   "cell_type": "code",
   "execution_count": 7,
   "metadata": {},
   "outputs": [],
   "source": [
    "df=pd.DataFrame(xyz_web)"
   ]
  },
  {
   "cell_type": "code",
   "execution_count": 9,
   "metadata": {},
   "outputs": [
    {
     "name": "stdout",
     "output_type": "stream",
     "text": [
      "   day  visitors  bunce_rate\n",
      "0    1       100          10\n",
      "1    2       200          20\n",
      "2    3       300          30\n",
      "3    4       400          40\n",
      "4    5       500          50\n",
      "5    6       600          60\n",
      "6    7       700          70\n"
     ]
    }
   ],
   "source": [
    "print(df)"
   ]
  },
  {
   "cell_type": "code",
   "execution_count": 10,
   "metadata": {},
   "outputs": [
    {
     "name": "stdout",
     "output_type": "stream",
     "text": [
      "   day  visitors  bunce_rate\n",
      "0    1       100          10\n",
      "1    2       200          20\n"
     ]
    }
   ],
   "source": [
    "print(df.head(2))"
   ]
  },
  {
   "cell_type": "code",
   "execution_count": 11,
   "metadata": {},
   "outputs": [
    {
     "name": "stdout",
     "output_type": "stream",
     "text": [
      "   day  visitors  bunce_rate\n",
      "4    5       500          50\n",
      "5    6       600          60\n",
      "6    7       700          70\n"
     ]
    }
   ],
   "source": [
    "print(df.tail(3))"
   ]
  },
  {
   "cell_type": "code",
   "execution_count": 20,
   "metadata": {},
   "outputs": [
    {
     "name": "stdout",
     "output_type": "stream",
     "text": [
      "      HPI  INT_RATE  IND_GDP\n",
      "2001    1        10      100\n",
      "2002    2        20      200\n",
      "2003    3        30      300\n",
      "2004    4        40      400\n",
      "2005    5        50      500\n",
      "2006    6        60      600\n",
      "2007    7        70      700\n"
     ]
    }
   ],
   "source": [
    "df1=pd.DataFrame({'HPI':[1,2,3,4,5,6,7],'INT_RATE':[10,20,30,40,50,60,70],'IND_GDP':[100,200,300,400,500,600,700]},index = [2001,2002,2003,2004,2005,2006,2007])\n",
    "print(df1)"
   ]
  },
  {
   "cell_type": "code",
   "execution_count": 21,
   "metadata": {},
   "outputs": [
    {
     "name": "stdout",
     "output_type": "stream",
     "text": [
      "      HPI  INT_RATE  IND_GDP\n",
      "2008    8        80      800\n",
      "2009    9        90      900\n",
      "2010   10       100     1000\n",
      "2011   11       110     1100\n",
      "2012   12       120     1200\n",
      "2013   13       130     1300\n",
      "2014   14       140     1400\n"
     ]
    }
   ],
   "source": [
    "df2=pd.DataFrame({'HPI':[8,9,10,11,12,13,14],'INT_RATE':[80,90,100,110,120,130,140],'IND_GDP':[800,900,1000,1100,1200,1300,1400]},index = [2008,2009,2010,2011,2012,2013,2014])\n",
    "print(df2)"
   ]
  },
  {
   "cell_type": "code",
   "execution_count": 26,
   "metadata": {},
   "outputs": [],
   "source": [
    "merge = pd.merge(df1,df2, on ='HPI')"
   ]
  },
  {
   "cell_type": "code",
   "execution_count": 27,
   "metadata": {},
   "outputs": [
    {
     "name": "stdout",
     "output_type": "stream",
     "text": [
      "Empty DataFrame\n",
      "Columns: [HPI, INT_RATE_x, IND_GDP_x, INT_RATE_y, IND_GDP_y]\n",
      "Index: []\n"
     ]
    }
   ],
   "source": [
    "print(merge)"
   ]
  },
  {
   "cell_type": "code",
   "execution_count": 28,
   "metadata": {},
   "outputs": [
    {
     "name": "stdout",
     "output_type": "stream",
     "text": [
      "      INT_RATE  IND_GDP\n",
      "2001        10      100\n",
      "2002        20      200\n",
      "2003        30      300\n",
      "2004        40      400\n",
      "2005        50      500\n",
      "2006        60      600\n",
      "2007        70      700\n"
     ]
    }
   ],
   "source": [
    "df1=pd.DataFrame({'INT_RATE':[10,20,30,40,50,60,70],'IND_GDP':[100,200,300,400,500,600,700]},index = [2001,2002,2003,2004,2005,2006,2007])\n",
    "print(df1)"
   ]
  },
  {
   "cell_type": "code",
   "execution_count": 31,
   "metadata": {},
   "outputs": [
    {
     "name": "stdout",
     "output_type": "stream",
     "text": [
      "      LOW_TIER_HPI  unemployment\n",
      "2001            10           100\n",
      "2002            20           200\n",
      "2003            30           300\n",
      "2004            40           400\n",
      "2005            50           500\n",
      "2008            60           600\n",
      "2009            70           700\n"
     ]
    }
   ],
   "source": [
    "df1=pd.DataFrame({'LOW_TIER_HPI':[10,20,30,40,50,60,70],'unemployment':[100,200,300,400,500,600,700]},index = [2001,2002,2003,2004,2005,2008,2009])\n",
    "print(df1)"
   ]
  },
  {
   "cell_type": "code",
   "execution_count": 32,
   "metadata": {},
   "outputs": [],
   "source": [
    "joined = df1.join(df2)"
   ]
  },
  {
   "cell_type": "code",
   "execution_count": 33,
   "metadata": {},
   "outputs": [
    {
     "name": "stdout",
     "output_type": "stream",
     "text": [
      "      LOW_TIER_HPI  unemployment  HPI  INT_RATE  IND_GDP\n",
      "2001            10           100  NaN       NaN      NaN\n",
      "2002            20           200  NaN       NaN      NaN\n",
      "2003            30           300  NaN       NaN      NaN\n",
      "2004            40           400  NaN       NaN      NaN\n",
      "2005            50           500  NaN       NaN      NaN\n",
      "2008            60           600  8.0      80.0    800.0\n",
      "2009            70           700  9.0      90.0    900.0\n"
     ]
    }
   ],
   "source": [
    "print(joined)"
   ]
  },
  {
   "cell_type": "code",
   "execution_count": 39,
   "metadata": {},
   "outputs": [],
   "source": [
    "import matplotlib.pyplot as plt\n",
    "from matplotlib import style\n",
    "style.use(\"fivethirtyeight\")"
   ]
  },
  {
   "cell_type": "code",
   "execution_count": 34,
   "metadata": {},
   "outputs": [],
   "source": [
    "df1=pd.DataFrame({'HPI':[1,2,3,4,5,6,7],'INT_RATE':[10,20,30,40,50,60,70],'IND_GDP':[100,200,300,400,500,600,700]},index = [2001,2002,2003,2004,2005,2006,2007])\n",
    "\n"
   ]
  },
  {
   "cell_type": "code",
   "execution_count": 42,
   "metadata": {},
   "outputs": [],
   "source": [
    "df1.set_index('HPI', inplace=True)"
   ]
  },
  {
   "cell_type": "code",
   "execution_count": 44,
   "metadata": {},
   "outputs": [
    {
     "data": {
      "image/png": "[encoded data removed]",
      "text/plain": [
       "<Figure size 432x288 with 1 Axes>"
      ]
     },
     "metadata": {
      "needs_background": "light"
     },
     "output_type": "display_data"
    }
   ],
   "source": [
    "df1.plot()\n",
    "plt.show()"
   ]
  },
  {
   "cell_type": "code",
   "execution_count": 45,
   "metadata": {},
   "outputs": [],
   "source": [
    "df1=df1.rename(columns={'INT_RATE':'india'})"
   ]
  },
  {
   "cell_type": "code",
   "execution_count": 46,
   "metadata": {},
   "outputs": [
    {
     "name": "stdout",
     "output_type": "stream",
     "text": [
      "     india  IND_GDP\n",
      "HPI                \n",
      "1       10      100\n",
      "2       20      200\n",
      "3       30      300\n",
      "4       40      400\n",
      "5       50      500\n",
      "6       60      600\n",
      "7       70      700\n"
     ]
    }
   ],
   "source": [
    "print(df1)"
   ]
  },
  {
   "cell_type": "code",
   "execution_count": 47,
   "metadata": {},
   "outputs": [],
   "source": [
    "df1=pd.DataFrame({'HPI':[1,2,3,4,5,6,7],'INT_RATE':[10,20,30,40,50,60,70],'IND_GDP':[100,200,300,400,500,600,700]},index = [2001,2002,2003,2004,2005,2006,2007])\n"
   ]
  },
  {
   "cell_type": "code",
   "execution_count": 48,
   "metadata": {},
   "outputs": [
    {
     "name": "stdout",
     "output_type": "stream",
     "text": [
      "      HPI  INT_RATE  IND_GDP\n",
      "2008    8        80      800\n",
      "2009    9        90      900\n",
      "2010   10       100     1000\n",
      "2011   11       110     1100\n",
      "2012   12       120     1200\n",
      "2013   13       130     1300\n",
      "2014   14       140     1400\n"
     ]
    }
   ],
   "source": [
    "df2=pd.DataFrame({'HPI':[8,9,10,11,12,13,14],'INT_RATE':[80,90,100,110,120,130,140],'IND_GDP':[800,900,1000,1100,1200,1300,1400]},index = [2008,2009,2010,2011,2012,2013,2014])\n",
    "print(df2)"
   ]
  },
  {
   "cell_type": "code",
   "execution_count": 49,
   "metadata": {},
   "outputs": [],
   "source": [
    "concat =pd.concat([df1,df2])"
   ]
  },
  {
   "cell_type": "code",
   "execution_count": 50,
   "metadata": {},
   "outputs": [
    {
     "name": "stdout",
     "output_type": "stream",
     "text": [
      "      HPI  INT_RATE  IND_GDP\n",
      "2001    1        10      100\n",
      "2002    2        20      200\n",
      "2003    3        30      300\n",
      "2004    4        40      400\n",
      "2005    5        50      500\n",
      "2006    6        60      600\n",
      "2007    7        70      700\n",
      "2008    8        80      800\n",
      "2009    9        90      900\n",
      "2010   10       100     1000\n",
      "2011   11       110     1100\n",
      "2012   12       120     1200\n",
      "2013   13       130     1300\n",
      "2014   14       140     1400\n"
     ]
    }
   ],
   "source": [
    "print(concat)"
   ]
  },
  {
   "cell_type": "code",
   "execution_count": 60,
   "metadata": {},
   "outputs": [],
   "source": [
    "import pandas as pd\n",
    "import os\n",
    "test = pd.read_csv(r\"C:\\Users\\USER\\Documents\\test.csv\")\n",
    "test.to_html('edu.html')"
   ]
  },
  {
   "cell_type": "code",
   "execution_count": null,
   "metadata": {},
   "outputs": [],
   "source": []
  },
  {
   "cell_type": "code",
   "execution_count": 27,
   "metadata": {},
   "outputs": [
    {
     "name": "stdout",
     "output_type": "stream",
     "text": [
      "            User_ID Gender    Age  Occupation City_Category  \\\n",
      "Product_ID                                                    \n",
      "P00128942   1000004      M  46-50           7             B   \n",
      "P00113442   1000009      M  26-35          17             C   \n",
      "P00288442   1000010      F  36-45           1             B   \n",
      "P00145342   1000010      F  36-45           1             B   \n",
      "P00053842   1000011      F  26-35           1             C   \n",
      "\n",
      "           Stay_In_Current_City_Years  Marital_Status  Product_Category_1  \\\n",
      "Product_ID                                                                  \n",
      "P00128942                           2               1                   1   \n",
      "P00113442                           0               0                   3   \n",
      "P00288442                          4+               1                   5   \n",
      "P00145342                          4+               1                   4   \n",
      "P00053842                           1               0                   4   \n",
      "\n",
      "            Product_Category_2  Product_Category_3  \n",
      "Product_ID                                          \n",
      "P00128942                 11.0                 NaN  \n",
      "P00113442                  5.0                 NaN  \n",
      "P00288442                 14.0                 NaN  \n",
      "P00145342                  9.0                 NaN  \n",
      "P00053842                  5.0                12.0  \n"
     ]
    },
    {
     "data": {
      "image/png": "[encoded data removed]",
      "text/plain": [
       "<Figure size 432x288 with 1 Axes>"
      ]
     },
     "metadata": {},
     "output_type": "display_data"
    }
   ],
   "source": [
    "import pandas as pd\n",
    "import matplotlib.pyplot as plt\n",
    "from matplotlib import style\n",
    "style.use(\"fivethirtyeight\")\n",
    "test = pd.read_csv(r\"C:\\Users\\USER\\Documents\\test.csv\")\n",
    "\n",
    "df=test.head(5)\n",
    "\n",
    "df=df.set_index([\"Product_ID\"])\n",
    "print(df)\n",
    "sd=df.reindex(columns=['Occupation','Product_Category_2'])\n",
    "\n",
    "sd.plot(kind = 'bar')\n",
    "plt.show()"
   ]
  },
  {
   "cell_type": "code",
   "execution_count": 20,
   "metadata": {},
   "outputs": [
    {
     "name": "stdout",
     "output_type": "stream",
     "text": [
      "5\n"
     ]
    }
   ],
   "source": [
    "from statistics import mean\n",
    "print(mean([1,2,3,4,5,6,7,8,9]))\n"
   ]
  },
  {
   "cell_type": "code",
   "execution_count": 22,
   "metadata": {},
   "outputs": [
    {
     "name": "stdout",
     "output_type": "stream",
     "text": [
      "5\n"
     ]
    }
   ],
   "source": [
    "from statistics import median\n",
    "print(median([1,2,3,4,5,6,7,8,9]))"
   ]
  },
  {
   "cell_type": "code",
   "execution_count": 24,
   "metadata": {},
   "outputs": [
    {
     "name": "stdout",
     "output_type": "stream",
     "text": [
      "9\n"
     ]
    }
   ],
   "source": [
    "from statistics import mode\n",
    "print(mode([1,2,3,4,5,6,7,8,9,9]))"
   ]
  },
  {
   "cell_type": "code",
   "execution_count": 26,
   "metadata": {},
   "outputs": [
    {
     "name": "stdout",
     "output_type": "stream",
     "text": [
      "7.5\n"
     ]
    }
   ],
   "source": [
    "from statistics import variance\n",
    "print(variance([1,2,3,4,5,6,7,8,9]))"
   ]
  },
  {
   "cell_type": "code",
   "execution_count": null,
   "metadata": {},
   "outputs": [],
   "source": [
    "df_xlsx=pd.read_excel((\"excel file.xlsx\"))\n",
    "print(df.xlsx)\n",
    "\n",
    "\n",
    "df=pd.read_csv('file.txt', delimiter='\\t')\n",
    "\n",
    "print(df.columns)\n",
    "\n",
    "\n"
   ]
  }
 ],
 "metadata": {
  "kernelspec": {
   "display_name": "Python 3",
   "language": "python",
   "name": "python3"
  },
  "language_info": {
   "codemirror_mode": {
    "name": "ipython",
    "version": 3
   },
   "file_extension": ".py",
   "mimetype": "text/x-python",
   "name": "python",
   "nbconvert_exporter": "python",
   "pygments_lexer": "ipython3",
   "version": "3.7.1"
  }
 },
 "nbformat": 4,
 "nbformat_minor": 2
}
